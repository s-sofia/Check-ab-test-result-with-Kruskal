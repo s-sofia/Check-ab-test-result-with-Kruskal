{
 "cells": [
  {
   "cell_type": "code",
   "execution_count": 1,
   "metadata": {},
   "outputs": [],
   "source": [
    "import pandas as pd\n",
    "import numpy as np\n",
    "import scipy.stats as ss\n",
    "import matplotlib.pyplot as plt\n",
    "import scikit_posthocs as sp\n",
    "from scipy import stats"
   ]
  },
  {
   "cell_type": "code",
   "execution_count": 2,
   "metadata": {},
   "outputs": [],
   "source": [
    "import seaborn as sns\n",
    "sns.set(\n",
    "    font_scale=2, \n",
    "    style=\"whitegrid\", \n",
    "    rc={'figure.figsize': (20, 7)}\n",
    ")"
   ]
  },
  {
   "cell_type": "markdown",
   "metadata": {},
   "source": [
    "1.1 Изучим данные"
   ]
  },
  {
   "cell_type": "code",
   "execution_count": 3,
   "metadata": {},
   "outputs": [],
   "source": [
    "users_test = pd.read_csv(\n",
    "    'https://getfile.dokpub.com/yandex/get/https://disk.yandex.ru/d/L8HxRYDn2l4h9A',\n",
    "    delimiter=\";\"\n",
    ")\n",
    "users_control_1 = pd.read_csv(\n",
    "    'https://getfile.dokpub.com/yandex/get/https://disk.yandex.ru/d/TxOD_JxnkMd4mA',\n",
    "    delimiter=\";\"\n",
    ")\n",
    "users_control_2 = pd.read_csv(\n",
    "    'https://getfile.dokpub.com/yandex/get/https://disk.yandex.ru/d/YT6OWRK2cTWfLg',\n",
    "    delimiter=\";\"\n",
    ")"
   ]
  },
  {
   "cell_type": "code",
   "execution_count": 4,
   "metadata": {},
   "outputs": [],
   "source": [
    "transactions_test = pd.read_csv(\n",
    "    'https://getfile.dokpub.com/yandex/get/https://disk.yandex.ru/d/3viYBnm7cyihkQ',\n",
    "    delimiter=\";\",\n",
    "    parse_dates=[\"joined_at\", \"paid_at\"],\n",
    ")\n",
    "transactions_control_1 = pd.read_csv(\n",
    "    'https://getfile.dokpub.com/yandex/get/https://disk.yandex.ru/d/84jzzJeQ4tqVyg',\n",
    "    delimiter=\";\",\n",
    "    parse_dates=[\"joined_at\", \"paid_at\"],\n",
    ")\n",
    "transactions_control_2 = pd.read_csv(\n",
    "    'https://getfile.dokpub.com/yandex/get/https://disk.yandex.ru/d/_pOo7mrDCZZMyA',\n",
    "    delimiter=\";\",\n",
    "    parse_dates=[\"joined_at\", \"paid_at\"],\n",
    ")"
   ]
  },
  {
   "cell_type": "code",
   "execution_count": 5,
   "metadata": {},
   "outputs": [],
   "source": [
    "users_test['test'] = 'test'\n",
    "users_control_1['test'] = 'control1'\n",
    "users_control_2['test'] = 'control2'"
   ]
  },
  {
   "cell_type": "code",
   "execution_count": 6,
   "metadata": {},
   "outputs": [],
   "source": [
    "transactions_test['test'] = 'test'\n",
    "transactions_control_1['test'] = 'control1'\n",
    "transactions_control_2['test'] = 'control2'"
   ]
  },
  {
   "cell_type": "code",
   "execution_count": 7,
   "metadata": {},
   "outputs": [],
   "source": [
    "users = pd.concat([users_test, users_control_1, users_control_2])"
   ]
  },
  {
   "cell_type": "code",
   "execution_count": 8,
   "metadata": {},
   "outputs": [],
   "source": [
    "transactions = pd.concat([transactions_test, transactions_control_1, transactions_control_2])"
   ]
  },
  {
   "cell_type": "code",
   "execution_count": 9,
   "metadata": {},
   "outputs": [
    {
     "data": {
      "text/html": [
       "<div>\n",
       "<style scoped>\n",
       "    .dataframe tbody tr th:only-of-type {\n",
       "        vertical-align: middle;\n",
       "    }\n",
       "\n",
       "    .dataframe tbody tr th {\n",
       "        vertical-align: top;\n",
       "    }\n",
       "\n",
       "    .dataframe thead th {\n",
       "        text-align: right;\n",
       "    }\n",
       "</style>\n",
       "<table border=\"1\" class=\"dataframe\">\n",
       "  <thead>\n",
       "    <tr style=\"text-align: right;\">\n",
       "      <th></th>\n",
       "      <th>uid</th>\n",
       "      <th>revenue</th>\n",
       "      <th>payment_id</th>\n",
       "    </tr>\n",
       "  </thead>\n",
       "  <tbody>\n",
       "    <tr>\n",
       "      <th>count</th>\n",
       "      <td>9.780000e+02</td>\n",
       "      <td>978.000000</td>\n",
       "      <td>978.000000</td>\n",
       "    </tr>\n",
       "    <tr>\n",
       "      <th>mean</th>\n",
       "      <td>8.920309e+08</td>\n",
       "      <td>7032.361963</td>\n",
       "      <td>94.592025</td>\n",
       "    </tr>\n",
       "    <tr>\n",
       "      <th>std</th>\n",
       "      <td>3.843685e+06</td>\n",
       "      <td>8655.787235</td>\n",
       "      <td>57.930448</td>\n",
       "    </tr>\n",
       "    <tr>\n",
       "      <th>min</th>\n",
       "      <td>8.910681e+08</td>\n",
       "      <td>26.000000</td>\n",
       "      <td>0.000000</td>\n",
       "    </tr>\n",
       "    <tr>\n",
       "      <th>25%</th>\n",
       "      <td>8.914837e+08</td>\n",
       "      <td>2577.250000</td>\n",
       "      <td>19.000000</td>\n",
       "    </tr>\n",
       "    <tr>\n",
       "      <th>50%</th>\n",
       "      <td>8.918626e+08</td>\n",
       "      <td>5804.500000</td>\n",
       "      <td>146.000000</td>\n",
       "    </tr>\n",
       "    <tr>\n",
       "      <th>75%</th>\n",
       "      <td>8.921428e+08</td>\n",
       "      <td>9087.000000</td>\n",
       "      <td>147.000000</td>\n",
       "    </tr>\n",
       "    <tr>\n",
       "      <th>max</th>\n",
       "      <td>9.609370e+08</td>\n",
       "      <td>113477.000000</td>\n",
       "      <td>147.000000</td>\n",
       "    </tr>\n",
       "  </tbody>\n",
       "</table>\n",
       "</div>"
      ],
      "text/plain": [
       "                uid        revenue  payment_id\n",
       "count  9.780000e+02     978.000000  978.000000\n",
       "mean   8.920309e+08    7032.361963   94.592025\n",
       "std    3.843685e+06    8655.787235   57.930448\n",
       "min    8.910681e+08      26.000000    0.000000\n",
       "25%    8.914837e+08    2577.250000   19.000000\n",
       "50%    8.918626e+08    5804.500000  146.000000\n",
       "75%    8.921428e+08    9087.000000  147.000000\n",
       "max    9.609370e+08  113477.000000  147.000000"
      ]
     },
     "execution_count": 9,
     "metadata": {},
     "output_type": "execute_result"
    }
   ],
   "source": [
    "transactions.describe()"
   ]
  },
  {
   "cell_type": "code",
   "execution_count": 10,
   "metadata": {},
   "outputs": [],
   "source": [
    "transactions['uid'] = transactions.uid.fillna(0).astype('int')"
   ]
  },
  {
   "cell_type": "code",
   "execution_count": 11,
   "metadata": {},
   "outputs": [
    {
     "data": {
      "text/plain": [
       "uid                      int64\n",
       "country                 object\n",
       "joined_at       datetime64[ns]\n",
       "paid_at         datetime64[ns]\n",
       "revenue                float64\n",
       "payment_id             float64\n",
       "from_page               object\n",
       "product_type            object\n",
       "test                    object\n",
       "dtype: object"
      ]
     },
     "execution_count": 11,
     "metadata": {},
     "output_type": "execute_result"
    }
   ],
   "source": [
    "transactions.dtypes"
   ]
  },
  {
   "cell_type": "code",
   "execution_count": 12,
   "metadata": {},
   "outputs": [],
   "source": [
    "transactions['paid_at'] = pd.to_datetime(transactions['paid_at'])"
   ]
  },
  {
   "cell_type": "code",
   "execution_count": 13,
   "metadata": {},
   "outputs": [
    {
     "data": {
      "text/html": [
       "<div>\n",
       "<style scoped>\n",
       "    .dataframe tbody tr th:only-of-type {\n",
       "        vertical-align: middle;\n",
       "    }\n",
       "\n",
       "    .dataframe tbody tr th {\n",
       "        vertical-align: top;\n",
       "    }\n",
       "\n",
       "    .dataframe thead th {\n",
       "        text-align: right;\n",
       "    }\n",
       "</style>\n",
       "<table border=\"1\" class=\"dataframe\">\n",
       "  <thead>\n",
       "    <tr style=\"text-align: right;\">\n",
       "      <th></th>\n",
       "      <th>uid</th>\n",
       "      <th>age</th>\n",
       "      <th>attraction_coeff</th>\n",
       "      <th>coins</th>\n",
       "      <th>gender</th>\n",
       "      <th>age_filter_start</th>\n",
       "      <th>age_filter_end</th>\n",
       "      <th>views_count</th>\n",
       "      <th>was_premium</th>\n",
       "      <th>is_premium</th>\n",
       "      <th>total_revenue</th>\n",
       "    </tr>\n",
       "  </thead>\n",
       "  <tbody>\n",
       "    <tr>\n",
       "      <th>count</th>\n",
       "      <td>1.291200e+04</td>\n",
       "      <td>12912.000000</td>\n",
       "      <td>12912.000000</td>\n",
       "      <td>170.000000</td>\n",
       "      <td>12912.000000</td>\n",
       "      <td>12912.000000</td>\n",
       "      <td>12912.000000</td>\n",
       "      <td>12912.000000</td>\n",
       "      <td>1255.0</td>\n",
       "      <td>540.0</td>\n",
       "      <td>12912.000000</td>\n",
       "    </tr>\n",
       "    <tr>\n",
       "      <th>mean</th>\n",
       "      <td>8.917569e+08</td>\n",
       "      <td>32.010378</td>\n",
       "      <td>315.455545</td>\n",
       "      <td>688.958824</td>\n",
       "      <td>0.955158</td>\n",
       "      <td>26.815985</td>\n",
       "      <td>38.568463</td>\n",
       "      <td>46.641032</td>\n",
       "      <td>1.0</td>\n",
       "      <td>1.0</td>\n",
       "      <td>526.837283</td>\n",
       "    </tr>\n",
       "    <tr>\n",
       "      <th>std</th>\n",
       "      <td>1.610285e+06</td>\n",
       "      <td>10.224415</td>\n",
       "      <td>323.488766</td>\n",
       "      <td>7690.943033</td>\n",
       "      <td>0.206965</td>\n",
       "      <td>9.447197</td>\n",
       "      <td>15.511204</td>\n",
       "      <td>285.324194</td>\n",
       "      <td>0.0</td>\n",
       "      <td>0.0</td>\n",
       "      <td>5524.662716</td>\n",
       "    </tr>\n",
       "    <tr>\n",
       "      <th>min</th>\n",
       "      <td>8.910509e+08</td>\n",
       "      <td>16.000000</td>\n",
       "      <td>0.000000</td>\n",
       "      <td>1.000000</td>\n",
       "      <td>0.000000</td>\n",
       "      <td>13.000000</td>\n",
       "      <td>19.000000</td>\n",
       "      <td>0.000000</td>\n",
       "      <td>1.0</td>\n",
       "      <td>1.0</td>\n",
       "      <td>0.000000</td>\n",
       "    </tr>\n",
       "    <tr>\n",
       "      <th>25%</th>\n",
       "      <td>8.913565e+08</td>\n",
       "      <td>25.000000</td>\n",
       "      <td>0.000000</td>\n",
       "      <td>6.000000</td>\n",
       "      <td>1.000000</td>\n",
       "      <td>19.000000</td>\n",
       "      <td>28.000000</td>\n",
       "      <td>1.000000</td>\n",
       "      <td>1.0</td>\n",
       "      <td>1.0</td>\n",
       "      <td>0.000000</td>\n",
       "    </tr>\n",
       "    <tr>\n",
       "      <th>50%</th>\n",
       "      <td>8.917255e+08</td>\n",
       "      <td>30.000000</td>\n",
       "      <td>250.000000</td>\n",
       "      <td>10.000000</td>\n",
       "      <td>1.000000</td>\n",
       "      <td>25.000000</td>\n",
       "      <td>35.000000</td>\n",
       "      <td>6.000000</td>\n",
       "      <td>1.0</td>\n",
       "      <td>1.0</td>\n",
       "      <td>0.000000</td>\n",
       "    </tr>\n",
       "    <tr>\n",
       "      <th>75%</th>\n",
       "      <td>8.920860e+08</td>\n",
       "      <td>38.000000</td>\n",
       "      <td>529.000000</td>\n",
       "      <td>28.000000</td>\n",
       "      <td>1.000000</td>\n",
       "      <td>32.000000</td>\n",
       "      <td>45.000000</td>\n",
       "      <td>21.000000</td>\n",
       "      <td>1.0</td>\n",
       "      <td>1.0</td>\n",
       "      <td>0.000000</td>\n",
       "    </tr>\n",
       "    <tr>\n",
       "      <th>max</th>\n",
       "      <td>1.053059e+09</td>\n",
       "      <td>99.000000</td>\n",
       "      <td>1000.000000</td>\n",
       "      <td>99958.000000</td>\n",
       "      <td>1.000000</td>\n",
       "      <td>96.000000</td>\n",
       "      <td>102.000000</td>\n",
       "      <td>16157.000000</td>\n",
       "      <td>1.0</td>\n",
       "      <td>1.0</td>\n",
       "      <td>486330.000000</td>\n",
       "    </tr>\n",
       "  </tbody>\n",
       "</table>\n",
       "</div>"
      ],
      "text/plain": [
       "                uid           age  attraction_coeff         coins  \\\n",
       "count  1.291200e+04  12912.000000      12912.000000    170.000000   \n",
       "mean   8.917569e+08     32.010378        315.455545    688.958824   \n",
       "std    1.610285e+06     10.224415        323.488766   7690.943033   \n",
       "min    8.910509e+08     16.000000          0.000000      1.000000   \n",
       "25%    8.913565e+08     25.000000          0.000000      6.000000   \n",
       "50%    8.917255e+08     30.000000        250.000000     10.000000   \n",
       "75%    8.920860e+08     38.000000        529.000000     28.000000   \n",
       "max    1.053059e+09     99.000000       1000.000000  99958.000000   \n",
       "\n",
       "             gender  age_filter_start  age_filter_end   views_count  \\\n",
       "count  12912.000000      12912.000000    12912.000000  12912.000000   \n",
       "mean       0.955158         26.815985       38.568463     46.641032   \n",
       "std        0.206965          9.447197       15.511204    285.324194   \n",
       "min        0.000000         13.000000       19.000000      0.000000   \n",
       "25%        1.000000         19.000000       28.000000      1.000000   \n",
       "50%        1.000000         25.000000       35.000000      6.000000   \n",
       "75%        1.000000         32.000000       45.000000     21.000000   \n",
       "max        1.000000         96.000000      102.000000  16157.000000   \n",
       "\n",
       "       was_premium  is_premium  total_revenue  \n",
       "count       1255.0       540.0   12912.000000  \n",
       "mean           1.0         1.0     526.837283  \n",
       "std            0.0         0.0    5524.662716  \n",
       "min            1.0         1.0       0.000000  \n",
       "25%            1.0         1.0       0.000000  \n",
       "50%            1.0         1.0       0.000000  \n",
       "75%            1.0         1.0       0.000000  \n",
       "max            1.0         1.0  486330.000000  "
      ]
     },
     "execution_count": 13,
     "metadata": {},
     "output_type": "execute_result"
    }
   ],
   "source": [
    "users.describe()"
   ]
  },
  {
   "cell_type": "code",
   "execution_count": 14,
   "metadata": {},
   "outputs": [
    {
     "data": {
      "text/plain": [
       "6802523"
      ]
     },
     "execution_count": 14,
     "metadata": {},
     "output_type": "execute_result"
    }
   ],
   "source": [
    "users.total_revenue.sum()"
   ]
  },
  {
   "cell_type": "code",
   "execution_count": 15,
   "metadata": {},
   "outputs": [
    {
     "data": {
      "text/plain": [
       "uid                   int64\n",
       "age                   int64\n",
       "attraction_coeff      int64\n",
       "coins               float64\n",
       "country              object\n",
       "visit_days           object\n",
       "gender                int64\n",
       "age_filter_start      int64\n",
       "age_filter_end        int64\n",
       "views_count           int64\n",
       "was_premium         float64\n",
       "is_premium          float64\n",
       "total_revenue         int64\n",
       "test                 object\n",
       "dtype: object"
      ]
     },
     "execution_count": 15,
     "metadata": {},
     "output_type": "execute_result"
    }
   ],
   "source": [
    "users.dtypes"
   ]
  },
  {
   "cell_type": "code",
   "execution_count": 16,
   "metadata": {},
   "outputs": [
    {
     "data": {
      "text/plain": [
       "uid               0\n",
       "country         630\n",
       "joined_at       630\n",
       "paid_at         630\n",
       "revenue         630\n",
       "payment_id      630\n",
       "from_page       630\n",
       "product_type    630\n",
       "test              0\n",
       "dtype: int64"
      ]
     },
     "execution_count": 16,
     "metadata": {},
     "output_type": "execute_result"
    }
   ],
   "source": [
    "transactions.isna().sum()"
   ]
  },
  {
   "cell_type": "code",
   "execution_count": 17,
   "metadata": {},
   "outputs": [
    {
     "data": {
      "text/plain": [
       "uid                     0\n",
       "age                     0\n",
       "attraction_coeff        0\n",
       "coins               12742\n",
       "country                 0\n",
       "visit_days           4018\n",
       "gender                  0\n",
       "age_filter_start        0\n",
       "age_filter_end          0\n",
       "views_count             0\n",
       "was_premium         11657\n",
       "is_premium          12372\n",
       "total_revenue           0\n",
       "test                    0\n",
       "dtype: int64"
      ]
     },
     "execution_count": 17,
     "metadata": {},
     "output_type": "execute_result"
    }
   ],
   "source": [
    "users.isna().sum()"
   ]
  },
  {
   "cell_type": "code",
   "execution_count": 18,
   "metadata": {},
   "outputs": [],
   "source": [
    "df = users.merge(transactions.drop(columns=['country']), how='left', on='uid')\n",
    "df = df.fillna(0)"
   ]
  },
  {
   "cell_type": "code",
   "execution_count": 19,
   "metadata": {},
   "outputs": [],
   "source": [
    "# посмотрим, нет ли наблюдений, которые попали одновременно в тестовую и контрольную группу"
   ]
  },
  {
   "cell_type": "code",
   "execution_count": 20,
   "metadata": {},
   "outputs": [
    {
     "data": {
      "text/plain": [
       "0"
      ]
     },
     "execution_count": 20,
     "metadata": {},
     "output_type": "execute_result"
    }
   ],
   "source": [
    "users.query('test == \"test\" & test == \"control1\"').uid.count()"
   ]
  },
  {
   "cell_type": "code",
   "execution_count": 21,
   "metadata": {},
   "outputs": [
    {
     "data": {
      "text/plain": [
       "0"
      ]
     },
     "execution_count": 21,
     "metadata": {},
     "output_type": "execute_result"
    }
   ],
   "source": [
    "users.query('test == \"test\" & test == \"control2\"').uid.count()"
   ]
  },
  {
   "cell_type": "code",
   "execution_count": 22,
   "metadata": {},
   "outputs": [
    {
     "data": {
      "text/plain": [
       "0"
      ]
     },
     "execution_count": 22,
     "metadata": {},
     "output_type": "execute_result"
    }
   ],
   "source": [
    "users.query('test == \"control1\" & test == \"control2\"').uid.count()"
   ]
  },
  {
   "cell_type": "code",
   "execution_count": 23,
   "metadata": {},
   "outputs": [
    {
     "data": {
      "text/plain": [
       "0"
      ]
     },
     "execution_count": 23,
     "metadata": {},
     "output_type": "execute_result"
    }
   ],
   "source": [
    "transactions.query('test == \"test\" & test == \"control1\"').uid.count()"
   ]
  },
  {
   "cell_type": "code",
   "execution_count": 24,
   "metadata": {},
   "outputs": [
    {
     "data": {
      "text/plain": [
       "0"
      ]
     },
     "execution_count": 24,
     "metadata": {},
     "output_type": "execute_result"
    }
   ],
   "source": [
    "transactions.query('test == \"control2\" & test == \"control1\"').uid.count()"
   ]
  },
  {
   "cell_type": "code",
   "execution_count": 25,
   "metadata": {},
   "outputs": [
    {
     "data": {
      "text/plain": [
       "0"
      ]
     },
     "execution_count": 25,
     "metadata": {},
     "output_type": "execute_result"
    }
   ],
   "source": [
    "transactions.query('test == \"test\" & test == \"control2\"').uid.count()"
   ]
  },
  {
   "cell_type": "code",
   "execution_count": 26,
   "metadata": {},
   "outputs": [
    {
     "data": {
      "text/plain": [
       "0"
      ]
     },
     "execution_count": 26,
     "metadata": {},
     "output_type": "execute_result"
    }
   ],
   "source": [
    "df.query('test_x == \"test\" & test_x == \"control1\"').uid.count()"
   ]
  },
  {
   "cell_type": "code",
   "execution_count": 27,
   "metadata": {},
   "outputs": [
    {
     "data": {
      "text/plain": [
       "0"
      ]
     },
     "execution_count": 27,
     "metadata": {},
     "output_type": "execute_result"
    }
   ],
   "source": [
    "df.query('test_x == \"control2\" & test_x == \"control1\"').uid.count()"
   ]
  },
  {
   "cell_type": "code",
   "execution_count": 28,
   "metadata": {},
   "outputs": [
    {
     "data": {
      "text/plain": [
       "0"
      ]
     },
     "execution_count": 28,
     "metadata": {},
     "output_type": "execute_result"
    }
   ],
   "source": [
    "df.query('test_x == \"test\" & test_x == \"control2\"').uid.count()"
   ]
  },
  {
   "cell_type": "markdown",
   "metadata": {},
   "source": [
    "Итак, знаем, что решено было повысить стоимость премиум-подписки в 2 платежных системах и нескольких странах. Выделим их среди данных"
   ]
  },
  {
   "cell_type": "code",
   "execution_count": 29,
   "metadata": {},
   "outputs": [],
   "source": [
    "# посмотрим, в каких платежных системах повысились медианные чеки"
   ]
  },
  {
   "cell_type": "code",
   "execution_count": 30,
   "metadata": {},
   "outputs": [],
   "source": [
    "transactions_vis = transactions.query('product_type == \"premium_no_trial\"') \\\n",
    "    .groupby(['test', 'payment_id'], as_index=False).agg({'revenue': 'median'})"
   ]
  },
  {
   "cell_type": "code",
   "execution_count": 31,
   "metadata": {},
   "outputs": [
    {
     "data": {
      "image/png": "[encoded data removed]",
      "text/plain": [
       "<Figure size 1440x504 with 1 Axes>"
      ]
     },
     "metadata": {},
     "output_type": "display_data"
    }
   ],
   "source": [
    "sns.barplot(x=\"payment_id\", y=\"revenue\", hue=\"test\", data=transactions_vis)\n",
    "plt.xticks(rotation=45)\n",
    "plt.show()\n",
    "# 0.0, 147.0 - две платежные системы, пользователи которых оплатили увеличенную подписку"
   ]
  },
  {
   "cell_type": "code",
   "execution_count": 32,
   "metadata": {},
   "outputs": [],
   "source": [
    "# посмотрим, в каких странах повысились чеки"
   ]
  },
  {
   "cell_type": "code",
   "execution_count": 33,
   "metadata": {},
   "outputs": [],
   "source": [
    "transactions_vis2 = transactions.query('product_type == \"premium_no_trial\"') \\\n",
    "    .groupby(['test', 'country'], as_index=False).agg({'revenue': 'median'})"
   ]
  },
  {
   "cell_type": "code",
   "execution_count": 34,
   "metadata": {},
   "outputs": [
    {
     "data": {
      "image/png": "[encoded data removed]",
      "text/plain": [
       "<Figure size 1440x504 with 1 Axes>"
      ]
     },
     "metadata": {},
     "output_type": "display_data"
    }
   ],
   "source": [
    "sns.barplot(x=\"country\", y=\"revenue\", hue=\"test\", data=transactions_vis2)\n",
    "plt.xticks(rotation=80)\n",
    "plt.show()\n",
    "# Аргентина, Австралия, Бельгия, Чили, Франция, Израиль, Италия, ОАЭ, Британия, США"
   ]
  },
  {
   "cell_type": "code",
   "execution_count": 35,
   "metadata": {},
   "outputs": [
    {
     "data": {
      "text/plain": [
       "Timestamp('2016-12-14 16:16:00')"
      ]
     },
     "execution_count": 35,
     "metadata": {},
     "output_type": "execute_result"
    }
   ],
   "source": [
    "transactions.paid_at.min()"
   ]
  },
  {
   "cell_type": "code",
   "execution_count": 36,
   "metadata": {},
   "outputs": [
    {
     "data": {
      "text/plain": [
       "Timestamp('2017-12-11 23:28:00')"
      ]
     },
     "execution_count": 36,
     "metadata": {},
     "output_type": "execute_result"
    }
   ],
   "source": [
    "transactions.paid_at.max()"
   ]
  },
  {
   "cell_type": "code",
   "execution_count": 37,
   "metadata": {},
   "outputs": [
    {
     "data": {
      "text/plain": [
       "Timestamp('2017-01-11 04:37:00')"
      ]
     },
     "execution_count": 37,
     "metadata": {},
     "output_type": "execute_result"
    }
   ],
   "source": [
    "transactions.query('test == \"test\"').paid_at.min()"
   ]
  },
  {
   "cell_type": "code",
   "execution_count": 38,
   "metadata": {},
   "outputs": [
    {
     "data": {
      "text/plain": [
       "Timestamp('2017-12-11 22:06:00')"
      ]
     },
     "execution_count": 38,
     "metadata": {},
     "output_type": "execute_result"
    }
   ],
   "source": [
    "transactions.query('test == \"test\"').paid_at.max()"
   ]
  },
  {
   "cell_type": "code",
   "execution_count": 39,
   "metadata": {},
   "outputs": [
    {
     "data": {
      "text/plain": [
       "Timedelta('334 days 17:29:00')"
      ]
     },
     "execution_count": 39,
     "metadata": {},
     "output_type": "execute_result"
    }
   ],
   "source": [
    "transactions.query('test == \"test\"').paid_at.max() - transactions.query('test == \"test\"').paid_at.min()"
   ]
  },
  {
   "cell_type": "code",
   "execution_count": 40,
   "metadata": {},
   "outputs": [
    {
     "data": {
      "text/plain": [
       "Timedelta('362 days 07:12:00')"
      ]
     },
     "execution_count": 40,
     "metadata": {},
     "output_type": "execute_result"
    }
   ],
   "source": [
    "transactions.paid_at.max() - transactions.paid_at.min()"
   ]
  },
  {
   "cell_type": "code",
   "execution_count": 41,
   "metadata": {},
   "outputs": [],
   "source": [
    "# тест проводили с 11 января по 11 декабря 2017 года, данные по остальным группам - с декабря 2016"
   ]
  },
  {
   "cell_type": "markdown",
   "metadata": {},
   "source": [
    "Подготовим данные для анализа - отфильтруем страны и платежные системы, на которых проводились тесты"
   ]
  },
  {
   "cell_type": "code",
   "execution_count": 42,
   "metadata": {},
   "outputs": [],
   "source": [
    "df = df.query('payment_id == 0.0 or payment_id == 147.0') \n",
    "df = df.query('country in [\"Argentina\", \"Australia\", \"Belgium\", \"Chile\", \"France\", \"Israel\", \"Italy\", \\\n",
    "              \"United Arab Emirates\", \"United Kingdom (Great Britain)\", \"United States of America\"]')"
   ]
  },
  {
   "cell_type": "code",
   "execution_count": 43,
   "metadata": {},
   "outputs": [],
   "source": [
    "transactions = transactions.query('payment_id == 0.0 or payment_id == 147.0')\n",
    "transactions = transactions.query('country in [\"Argentina\", \"Australia\", \"Belgium\", \"Chile\", \"France\", \\\n",
    "                                  \"Israel\", \"Italy\", \"United Arab Emirates\", \"United Kingdom (Great Britain)\", \\\n",
    "                                  \"United States of America\"]')"
   ]
  },
  {
   "cell_type": "code",
   "execution_count": 44,
   "metadata": {},
   "outputs": [],
   "source": [
    "users = users.query('country in [\"Argentina\",\"Australia\", \"Belgium\", \"Chile\", \"France\", \"Israel\", \\\n",
    "                    \"Italy\", \"United Arab Emirates\", \"United Kingdom (Great Britain)\", \"United States of America\"]')"
   ]
  },
  {
   "cell_type": "code",
   "execution_count": 45,
   "metadata": {},
   "outputs": [],
   "source": [
    "df_country = df.groupby(['test_x', 'country'], as_index=False) \\\n",
    "    .agg({'total_revenue': 'sum', 'uid': 'nunique'}).rename(columns={'uid': 'user_counts'})"
   ]
  },
  {
   "cell_type": "code",
   "execution_count": 46,
   "metadata": {},
   "outputs": [],
   "source": [
    "df_country['arpu'] = df_country.total_revenue / df_country.user_counts\n",
    "# считаем ARPU"
   ]
  },
  {
   "cell_type": "code",
   "execution_count": 47,
   "metadata": {},
   "outputs": [
    {
     "data": {
      "image/png": "[encoded data removed]",
      "text/plain": [
       "<Figure size 1440x504 with 1 Axes>"
      ]
     },
     "metadata": {},
     "output_type": "display_data"
    }
   ],
   "source": [
    "sns.barplot(x=\"country\", y=\"arpu\", hue=\"test_x\", data=df_country)\n",
    "plt.xticks(rotation=80)\n",
    "plt.show()\n",
    "# уберем Британию и Италию - явно какие-то выбросы"
   ]
  },
  {
   "cell_type": "code",
   "execution_count": 48,
   "metadata": {},
   "outputs": [],
   "source": [
    "df_country = df_country.query('country not in [\"Italy\", \"United Kingdom (Great Britain)\"]')"
   ]
  },
  {
   "cell_type": "code",
   "execution_count": 49,
   "metadata": {},
   "outputs": [
    {
     "data": {
      "image/png": "[encoded data removed]",
      "text/plain": [
       "<Figure size 1440x504 with 1 Axes>"
      ]
     },
     "metadata": {},
     "output_type": "display_data"
    }
   ],
   "source": [
    "sns.barplot(x=\"country\", y=\"arpu\", hue=\"test_x\", data=df_country)\n",
    "plt.xticks(rotation=80)\n",
    "plt.show()\n",
    "# уберем Британию и Италию - явно какие-то выбросы"
   ]
  },
  {
   "cell_type": "code",
   "execution_count": 50,
   "metadata": {},
   "outputs": [],
   "source": [
    "df = df.query('country not in [\"Italy\", \"United Kingdom (Great Britain)\"]')"
   ]
  },
  {
   "cell_type": "code",
   "execution_count": 51,
   "metadata": {},
   "outputs": [],
   "source": [
    "transactions = transactions.query('country not in [\"Italy\", \"United Kingdom (Great Britain)\"]')"
   ]
  },
  {
   "cell_type": "code",
   "execution_count": 52,
   "metadata": {},
   "outputs": [],
   "source": [
    "users = users.query('country not in [\"Italy\", \"United Kingdom (Great Britain)\"]')"
   ]
  },
  {
   "cell_type": "markdown",
   "metadata": {},
   "source": [
    "1.2. Посмотрим на изменения - считаем ARPU; проверим конверсии в покупку премиум подписки; выясним, не склонны ли пользователи уходить из-за повышения цены (retention)"
   ]
  },
  {
   "cell_type": "code",
   "execution_count": 53,
   "metadata": {},
   "outputs": [
    {
     "data": {
      "text/plain": [
       "test_x\n",
       "control1    441.517544\n",
       "control2    377.573854\n",
       "test        549.549864\n",
       "dtype: float64"
      ]
     },
     "execution_count": 53,
     "metadata": {},
     "output_type": "execute_result"
    }
   ],
   "source": [
    "arpu = df.groupby('test_x') \\\n",
    "    .total_revenue.sum() / df.groupby('test_x').uid.nunique()\n",
    "arpu"
   ]
  },
  {
   "cell_type": "code",
   "execution_count": 54,
   "metadata": {},
   "outputs": [
    {
     "data": {
      "text/plain": [
       "68.79027039481204"
      ]
     },
     "execution_count": 54,
     "metadata": {},
     "output_type": "execute_result"
    }
   ],
   "source": [
    "(1722.405670 - 1020.441324) / 1020.441324 * 100"
   ]
  },
  {
   "cell_type": "code",
   "execution_count": 55,
   "metadata": {},
   "outputs": [
    {
     "data": {
      "text/plain": [
       "93.72378592266745"
      ]
     },
     "execution_count": 55,
     "metadata": {},
     "output_type": "execute_result"
    }
   ],
   "source": [
    "(1722.405670 - 889.103866) / 889.103866 * 100"
   ]
  },
  {
   "cell_type": "code",
   "execution_count": 56,
   "metadata": {},
   "outputs": [
    {
     "data": {
      "text/plain": [
       "(array([0, 1, 2]), <a list of 3 Text major ticklabel objects>)"
      ]
     },
     "execution_count": 56,
     "metadata": {},
     "output_type": "execute_result"
    },
    {
     "data": {
      "image/png": "[encoded data removed]",
      "text/plain": [
       "<Figure size 1440x504 with 1 Axes>"
      ]
     },
     "metadata": {},
     "output_type": "display_data"
    }
   ],
   "source": [
    "arpu.plot.bar()\n",
    "plt.xticks(rotation=45)"
   ]
  },
  {
   "cell_type": "code",
   "execution_count": 57,
   "metadata": {},
   "outputs": [],
   "source": [
    "# в тестовой группе ARPU выше, чем в control2 и в control1"
   ]
  },
  {
   "cell_type": "code",
   "execution_count": 58,
   "metadata": {},
   "outputs": [],
   "source": [
    "# проверим конверсию в покупку премиума"
   ]
  },
  {
   "cell_type": "code",
   "execution_count": 59,
   "metadata": {},
   "outputs": [
    {
     "data": {
      "text/plain": [
       "3.644954438069524"
      ]
     },
     "execution_count": 59,
     "metadata": {},
     "output_type": "execute_result"
    }
   ],
   "source": [
    "users.query('test == \"test\"') \\\n",
    "    .is_premium.sum() / users.query('test == \"test\"').uid.count() * 100"
   ]
  },
  {
   "cell_type": "code",
   "execution_count": 60,
   "metadata": {},
   "outputs": [
    {
     "data": {
      "text/plain": [
       "4.446673353393514"
      ]
     },
     "execution_count": 60,
     "metadata": {},
     "output_type": "execute_result"
    }
   ],
   "source": [
    "users.query('test == \"control1\"') \\\n",
    "    .is_premium.sum() / users.query('test == \"control1\"').uid.count() * 100"
   ]
  },
  {
   "cell_type": "code",
   "execution_count": 61,
   "metadata": {},
   "outputs": [
    {
     "data": {
      "text/plain": [
       "4.336134453781513"
      ]
     },
     "execution_count": 61,
     "metadata": {},
     "output_type": "execute_result"
    }
   ],
   "source": [
    "users.query('test == \"control2\"') \\\n",
    "    .is_premium.sum() / users.query('test == \"control2\"').uid.count() * 100"
   ]
  },
  {
   "cell_type": "code",
   "execution_count": 62,
   "metadata": {},
   "outputs": [],
   "source": [
    "# конверсия в премиум снизилась на ~0,7 процентных пунктов. Посмотрим повлияло ли повышение цены на показатель retenrion"
   ]
  },
  {
   "cell_type": "code",
   "execution_count": 63,
   "metadata": {},
   "outputs": [],
   "source": [
    "df['last_day'] = df.visit_days.str.split(',').str[-1].fillna(0).astype('int')"
   ]
  },
  {
   "cell_type": "code",
   "execution_count": 64,
   "metadata": {},
   "outputs": [
    {
     "data": {
      "text/html": [
       "<div>\n",
       "<style scoped>\n",
       "    .dataframe tbody tr th:only-of-type {\n",
       "        vertical-align: middle;\n",
       "    }\n",
       "\n",
       "    .dataframe tbody tr th {\n",
       "        vertical-align: top;\n",
       "    }\n",
       "\n",
       "    .dataframe thead th {\n",
       "        text-align: right;\n",
       "    }\n",
       "</style>\n",
       "<table border=\"1\" class=\"dataframe\">\n",
       "  <thead>\n",
       "    <tr style=\"text-align: right;\">\n",
       "      <th></th>\n",
       "      <th>test_x</th>\n",
       "      <th>uid</th>\n",
       "    </tr>\n",
       "  </thead>\n",
       "  <tbody>\n",
       "    <tr>\n",
       "      <th>0</th>\n",
       "      <td>control1</td>\n",
       "      <td>2964</td>\n",
       "    </tr>\n",
       "    <tr>\n",
       "      <th>1</th>\n",
       "      <td>control2</td>\n",
       "      <td>2945</td>\n",
       "    </tr>\n",
       "    <tr>\n",
       "      <th>2</th>\n",
       "      <td>test</td>\n",
       "      <td>2948</td>\n",
       "    </tr>\n",
       "  </tbody>\n",
       "</table>\n",
       "</div>"
      ],
      "text/plain": [
       "     test_x   uid\n",
       "0  control1  2964\n",
       "1  control2  2945\n",
       "2      test  2948"
      ]
     },
     "execution_count": 64,
     "metadata": {},
     "output_type": "execute_result"
    }
   ],
   "source": [
    "df.groupby(['test_x'], as_index=False).uid.nunique()"
   ]
  },
  {
   "cell_type": "code",
   "execution_count": 65,
   "metadata": {},
   "outputs": [
    {
     "data": {
      "text/plain": [
       "0     953\n",
       "1     371\n",
       "2     213\n",
       "3     130\n",
       "4     141\n",
       "5     128\n",
       "6      98\n",
       "7      95\n",
       "8      94\n",
       "9      91\n",
       "10     86\n",
       "11     43\n",
       "12     39\n",
       "13     34\n",
       "14     43\n",
       "15     40\n",
       "16     34\n",
       "17     49\n",
       "18     17\n",
       "19     29\n",
       "20     28\n",
       "21     22\n",
       "22     23\n",
       "23     19\n",
       "24     22\n",
       "25     18\n",
       "26     25\n",
       "27     11\n",
       "28     19\n",
       "29      9\n",
       "30      9\n",
       "31     15\n",
       "Name: uid, dtype: int64"
      ]
     },
     "execution_count": 65,
     "metadata": {},
     "output_type": "execute_result"
    }
   ],
   "source": [
    "# последний день визита пользователей тестовой группы, %\n",
    "test_ret = df.query('payment_id == 0.0 or payment_id == 147.0' and 'test_x == \"test\"') \\\n",
    "    .groupby(['test_x', 'last_day'], as_index=False) \\\n",
    "    .uid.nunique().sort_values(by='last_day').uid\n",
    "test_ret"
   ]
  },
  {
   "cell_type": "code",
   "execution_count": 66,
   "metadata": {},
   "outputs": [
    {
     "data": {
      "text/plain": [
       "0     924\n",
       "1     415\n",
       "2     213\n",
       "3     140\n",
       "4     128\n",
       "5     113\n",
       "6     112\n",
       "7      87\n",
       "8      84\n",
       "9      82\n",
       "10     76\n",
       "11     56\n",
       "12     43\n",
       "13     32\n",
       "14     35\n",
       "15     47\n",
       "16     42\n",
       "17     32\n",
       "18     21\n",
       "19     32\n",
       "20     25\n",
       "21     36\n",
       "22     27\n",
       "23     17\n",
       "24     23\n",
       "25     25\n",
       "26     19\n",
       "27     23\n",
       "28     12\n",
       "29     20\n",
       "30     10\n",
       "31     13\n",
       "Name: uid, dtype: int64"
      ]
     },
     "execution_count": 66,
     "metadata": {},
     "output_type": "execute_result"
    }
   ],
   "source": [
    "# последний день визита пользователей 1 контрольной группы, %\n",
    "control1_ret = df.query('payment_id == 0.0 or payment_id == 147.0' and 'test_x == \"control1\"') \\\n",
    "    .groupby(['test_x', 'last_day'], as_index=False) \\\n",
    "    .uid.nunique().sort_values(by='last_day').uid\n",
    "control1_ret"
   ]
  },
  {
   "cell_type": "code",
   "execution_count": 67,
   "metadata": {},
   "outputs": [
    {
     "data": {
      "text/plain": [
       "0     1003\n",
       "1      404\n",
       "2      199\n",
       "3      150\n",
       "4      115\n",
       "5      108\n",
       "6       89\n",
       "7       82\n",
       "8       95\n",
       "9       91\n",
       "10      73\n",
       "11      47\n",
       "12      34\n",
       "13      41\n",
       "14      41\n",
       "15      31\n",
       "16      41\n",
       "17      32\n",
       "18      38\n",
       "19      20\n",
       "20      13\n",
       "21      22\n",
       "22      23\n",
       "23      19\n",
       "24      19\n",
       "25      20\n",
       "26      14\n",
       "27      17\n",
       "28      12\n",
       "29      11\n",
       "30      19\n",
       "31      22\n",
       "Name: uid, dtype: int64"
      ]
     },
     "execution_count": 67,
     "metadata": {},
     "output_type": "execute_result"
    }
   ],
   "source": [
    "# последний день визита пользователей 2 контрольной группы, %\n",
    "control2_ret = df.query('payment_id == 0.0 or payment_id == 147.0' and 'test_x == \"control2\"') \\\n",
    "    .groupby(['test_x', 'last_day'], as_index=False) \\\n",
    "    .uid.nunique().sort_values(by='last_day').uid\n",
    "control2_ret"
   ]
  },
  {
   "cell_type": "code",
   "execution_count": 68,
   "metadata": {},
   "outputs": [
    {
     "data": {
      "text/plain": [
       "<matplotlib.axes._subplots.AxesSubplot at 0x7f9c0c4680f0>"
      ]
     },
     "execution_count": 68,
     "metadata": {},
     "output_type": "execute_result"
    },
    {
     "data": {
      "image/png": "[encoded data removed]",
      "text/plain": [
       "<Figure size 1440x504 with 1 Axes>"
      ]
     },
     "metadata": {},
     "output_type": "display_data"
    }
   ],
   "source": [
    "# картина примерно одинакова по всем группам, посмотрим на графике\n",
    "sns.lineplot(data=test_ret)\n",
    "sns.lineplot(data=control1_ret)\n",
    "sns.lineplot(data=control2_ret)"
   ]
  },
  {
   "cell_type": "markdown",
   "metadata": {},
   "source": [
    "Посмотрим, сколько пользователей были когда-либо премиум и сколько являются сейчас"
   ]
  },
  {
   "cell_type": "code",
   "execution_count": 69,
   "metadata": {},
   "outputs": [
    {
     "data": {
      "text/html": [
       "<div>\n",
       "<style scoped>\n",
       "    .dataframe tbody tr th:only-of-type {\n",
       "        vertical-align: middle;\n",
       "    }\n",
       "\n",
       "    .dataframe tbody tr th {\n",
       "        vertical-align: top;\n",
       "    }\n",
       "\n",
       "    .dataframe thead th {\n",
       "        text-align: right;\n",
       "    }\n",
       "</style>\n",
       "<table border=\"1\" class=\"dataframe\">\n",
       "  <thead>\n",
       "    <tr style=\"text-align: right;\">\n",
       "      <th></th>\n",
       "      <th>was_premium</th>\n",
       "      <th>is_premium</th>\n",
       "      <th>test_x</th>\n",
       "      <th>uid</th>\n",
       "    </tr>\n",
       "  </thead>\n",
       "  <tbody>\n",
       "    <tr>\n",
       "      <th>0</th>\n",
       "      <td>0.0</td>\n",
       "      <td>0.0</td>\n",
       "      <td>control1</td>\n",
       "      <td>2678</td>\n",
       "    </tr>\n",
       "    <tr>\n",
       "      <th>1</th>\n",
       "      <td>0.0</td>\n",
       "      <td>0.0</td>\n",
       "      <td>control2</td>\n",
       "      <td>2680</td>\n",
       "    </tr>\n",
       "    <tr>\n",
       "      <th>2</th>\n",
       "      <td>0.0</td>\n",
       "      <td>0.0</td>\n",
       "      <td>test</td>\n",
       "      <td>2687</td>\n",
       "    </tr>\n",
       "    <tr>\n",
       "      <th>3</th>\n",
       "      <td>1.0</td>\n",
       "      <td>0.0</td>\n",
       "      <td>control1</td>\n",
       "      <td>157</td>\n",
       "    </tr>\n",
       "    <tr>\n",
       "      <th>4</th>\n",
       "      <td>1.0</td>\n",
       "      <td>0.0</td>\n",
       "      <td>control2</td>\n",
       "      <td>146</td>\n",
       "    </tr>\n",
       "    <tr>\n",
       "      <th>5</th>\n",
       "      <td>1.0</td>\n",
       "      <td>0.0</td>\n",
       "      <td>test</td>\n",
       "      <td>156</td>\n",
       "    </tr>\n",
       "    <tr>\n",
       "      <th>6</th>\n",
       "      <td>1.0</td>\n",
       "      <td>1.0</td>\n",
       "      <td>control1</td>\n",
       "      <td>133</td>\n",
       "    </tr>\n",
       "    <tr>\n",
       "      <th>7</th>\n",
       "      <td>1.0</td>\n",
       "      <td>1.0</td>\n",
       "      <td>control2</td>\n",
       "      <td>121</td>\n",
       "    </tr>\n",
       "    <tr>\n",
       "      <th>8</th>\n",
       "      <td>1.0</td>\n",
       "      <td>1.0</td>\n",
       "      <td>test</td>\n",
       "      <td>111</td>\n",
       "    </tr>\n",
       "  </tbody>\n",
       "</table>\n",
       "</div>"
      ],
      "text/plain": [
       "   was_premium  is_premium    test_x   uid\n",
       "0          0.0         0.0  control1  2678\n",
       "1          0.0         0.0  control2  2680\n",
       "2          0.0         0.0      test  2687\n",
       "3          1.0         0.0  control1   157\n",
       "4          1.0         0.0  control2   146\n",
       "5          1.0         0.0      test   156\n",
       "6          1.0         1.0  control1   133\n",
       "7          1.0         1.0  control2   121\n",
       "8          1.0         1.0      test   111"
      ]
     },
     "execution_count": 69,
     "metadata": {},
     "output_type": "execute_result"
    }
   ],
   "source": [
    "df.groupby(['was_premium', 'is_premium', 'test_x'], as_index=False).uid.count()"
   ]
  },
  {
   "cell_type": "markdown",
   "metadata": {},
   "source": [
    "То же самое - в процентном соотношении от общего числа пользователей в конкретной группе"
   ]
  },
  {
   "cell_type": "code",
   "execution_count": 70,
   "metadata": {},
   "outputs": [
    {
     "data": {
      "text/plain": [
       "was_premium  is_premium\n",
       "0.0          0.0           90.961408\n",
       "1.0          0.0            5.280975\n",
       "             1.0            3.757617\n",
       "Name: uid, dtype: float64"
      ]
     },
     "execution_count": 70,
     "metadata": {},
     "output_type": "execute_result"
    }
   ],
   "source": [
    "df.query('test_x == \"test\"').groupby(['was_premium', 'is_premium']) \\\n",
    "    .uid.count() / df.query('test_x == \"test\"').uid.count() * 100"
   ]
  },
  {
   "cell_type": "code",
   "execution_count": 71,
   "metadata": {},
   "outputs": [
    {
     "data": {
      "text/plain": [
       "was_premium  is_premium\n",
       "0.0          0.0           90.229111\n",
       "1.0          0.0            5.289757\n",
       "             1.0            4.481132\n",
       "Name: uid, dtype: float64"
      ]
     },
     "execution_count": 71,
     "metadata": {},
     "output_type": "execute_result"
    }
   ],
   "source": [
    "df.query('test_x == \"control1\"').groupby(['was_premium', 'is_premium']) \\\n",
    "    .uid.count() / df.query('test_x == \"control1\"').uid.count() * 100"
   ]
  },
  {
   "cell_type": "code",
   "execution_count": 72,
   "metadata": {},
   "outputs": [
    {
     "data": {
      "text/plain": [
       "was_premium  is_premium\n",
       "0.0          0.0           90.939939\n",
       "1.0          0.0            4.954191\n",
       "             1.0            4.105870\n",
       "Name: uid, dtype: float64"
      ]
     },
     "execution_count": 72,
     "metadata": {},
     "output_type": "execute_result"
    }
   ],
   "source": [
    "df.query('test_x == \"control2\"').groupby(['was_premium', 'is_premium']) \\\n",
    "    .uid.count() / df.query('test_x == \"control2\"').uid.count() * 100"
   ]
  },
  {
   "cell_type": "markdown",
   "metadata": {},
   "source": [
    "Итого:\n",
    "    ARPU в тестовой группе выше, чем во второй контрольной на 93 процента и на 68 выше, чем в первой;\n",
    "    показатель конверсии в премиум подписку - ниже на ~0,7 процентных пункта, чем в обеих контрольных группах;\n",
    "    retention примерно одинаков"
   ]
  },
  {
   "cell_type": "markdown",
   "metadata": {},
   "source": [
    "2. Теперь проверим стат значимость полученных результатов\n",
    "\n",
    "Переменные количественные, ищем различия, проверяем средние значения (средний чек), три группы для сравнения, выбираем предположительно ANOVA, посмотрим, соответствуют ли наши выборки параметрическим критериями (посчитаем дисперсии внутри групп - требование гомогенности дисперсий, - и проверим нормальность распределений)"
   ]
  },
  {
   "cell_type": "code",
   "execution_count": 73,
   "metadata": {},
   "outputs": [],
   "source": [
    "x1 = df.query('test_x == \"test\"').total_revenue"
   ]
  },
  {
   "cell_type": "code",
   "execution_count": 74,
   "metadata": {},
   "outputs": [],
   "source": [
    "x2 = df.query('test_x == \"control1\"').total_revenue"
   ]
  },
  {
   "cell_type": "code",
   "execution_count": 75,
   "metadata": {},
   "outputs": [],
   "source": [
    "x3 = df.query('test_x == \"control2\"').total_revenue"
   ]
  },
  {
   "cell_type": "code",
   "execution_count": 76,
   "metadata": {},
   "outputs": [
    {
     "data": {
      "text/plain": [
       "LeveneResult(statistic=1.9442645811957722, pvalue=0.14315342247789065)"
      ]
     },
     "execution_count": 76,
     "metadata": {},
     "output_type": "execute_result"
    }
   ],
   "source": [
    "stats.levene(x1, x2, x3)\n",
    "# p < 0.05, отклоняем нулевую гипотезу о гомогенности дисперсий: дисперсии гетерогенны"
   ]
  },
  {
   "cell_type": "code",
   "execution_count": 77,
   "metadata": {},
   "outputs": [
    {
     "name": "stdout",
     "output_type": "stream",
     "text": [
      "ShapiroResult(statistic=0.10253512859344482, pvalue=0.0)\n",
      "ShapiroResult(statistic=0.14785706996917725, pvalue=0.0)\n",
      "ShapiroResult(statistic=0.1286737322807312, pvalue=0.0)\n"
     ]
    }
   ],
   "source": [
    "print(ss.shapiro(x1))\n",
    "print(ss.shapiro(x2))\n",
    "print(ss.shapiro(x3))\n",
    "# p < 0.05, отвергаем нулевую гипотезу о том, что распределения нормальны"
   ]
  },
  {
   "cell_type": "code",
   "execution_count": 78,
   "metadata": {},
   "outputs": [],
   "source": [
    "x1_log = np.log(df.query('test_x == \"test\"' and 'total_revenue != 0').total_revenue)"
   ]
  },
  {
   "cell_type": "code",
   "execution_count": 79,
   "metadata": {},
   "outputs": [],
   "source": [
    "x2_log = np.log(df.query('test_x == \"control1\"' and 'total_revenue != 0').total_revenue)"
   ]
  },
  {
   "cell_type": "code",
   "execution_count": 80,
   "metadata": {},
   "outputs": [],
   "source": [
    "x3_log = np.log(df.query('test_x == \"control2\"' and 'total_revenue != 0').total_revenue)"
   ]
  },
  {
   "cell_type": "code",
   "execution_count": 81,
   "metadata": {},
   "outputs": [
    {
     "data": {
      "text/plain": [
       "LeveneResult(statistic=0.0, pvalue=1.0)"
      ]
     },
     "execution_count": 81,
     "metadata": {},
     "output_type": "execute_result"
    }
   ],
   "source": [
    "stats.levene(x1_log, x2_log, x3_log)\n",
    "# p < 0.05, отклоняем нулевую гипотезу о гомогенности дисперсий: дисперсии гетерогенны"
   ]
  },
  {
   "cell_type": "code",
   "execution_count": 82,
   "metadata": {},
   "outputs": [
    {
     "name": "stdout",
     "output_type": "stream",
     "text": [
      "ShapiroResult(statistic=0.945283055305481, pvalue=5.410254466653441e-09)\n",
      "ShapiroResult(statistic=0.945283055305481, pvalue=5.410254466653441e-09)\n",
      "ShapiroResult(statistic=0.945283055305481, pvalue=5.410254466653441e-09)\n"
     ]
    }
   ],
   "source": [
    "print(ss.shapiro(x1_log))\n",
    "print(ss.shapiro(x2_log))\n",
    "print(ss.shapiro(x3_log))\n",
    "# p < 0.05, отвергаем нулевую гипотезу о том, что распределения нормальны\n",
    "# трафнсформация данных не помогла, используем тест Краскела-Уоллиса"
   ]
  },
  {
   "cell_type": "code",
   "execution_count": 83,
   "metadata": {},
   "outputs": [
    {
     "data": {
      "text/plain": [
       "KruskalResult(statistic=2.463314810267343, pvalue=0.29180853170302723)"
      ]
     },
     "execution_count": 83,
     "metadata": {},
     "output_type": "execute_result"
    }
   ],
   "source": [
    "ss.kruskal(x1, x2, x3)"
   ]
  },
  {
   "cell_type": "code",
   "execution_count": 84,
   "metadata": {},
   "outputs": [],
   "source": [
    "# p > 0.05, принимаем нулевую гипотезу об отсутствии статистически значимых различий"
   ]
  },
  {
   "cell_type": "markdown",
   "metadata": {},
   "source": [
    "Вывод - эксперимент неудачен в целом\n",
    "\n",
    "Но он может быть удачен в отдельных группах пользователей\n",
    "\n",
    "Проверим это дальше, воспользовавшись тестом Данна с поправкой Холма, чтобы избежать ошибки первого рода"
   ]
  },
  {
   "cell_type": "markdown",
   "metadata": {},
   "source": [
    "3. Проведем анализ по пользователям разного возраста"
   ]
  },
  {
   "cell_type": "code",
   "execution_count": 85,
   "metadata": {},
   "outputs": [],
   "source": [
    "df_age = df.groupby('age', as_index=False).agg({'uid': 'count'})"
   ]
  },
  {
   "cell_type": "code",
   "execution_count": 86,
   "metadata": {},
   "outputs": [
    {
     "data": {
      "image/png": "[encoded data removed]",
      "text/plain": [
       "<Figure size 1440x504 with 1 Axes>"
      ]
     },
     "metadata": {},
     "output_type": "display_data"
    }
   ],
   "source": [
    "sns.lineplot(x=\"age\", y=\"uid\", data=df_age)\n",
    "plt.xticks(rotation=45)\n",
    "plt.show()"
   ]
  },
  {
   "cell_type": "code",
   "execution_count": 87,
   "metadata": {
    "scrolled": true
   },
   "outputs": [
    {
     "data": {
      "text/html": [
       "<div>\n",
       "<style scoped>\n",
       "    .dataframe tbody tr th:only-of-type {\n",
       "        vertical-align: middle;\n",
       "    }\n",
       "\n",
       "    .dataframe tbody tr th {\n",
       "        vertical-align: top;\n",
       "    }\n",
       "\n",
       "    .dataframe thead th {\n",
       "        text-align: right;\n",
       "    }\n",
       "</style>\n",
       "<table border=\"1\" class=\"dataframe\">\n",
       "  <thead>\n",
       "    <tr style=\"text-align: right;\">\n",
       "      <th></th>\n",
       "      <th>age</th>\n",
       "      <th>uid</th>\n",
       "    </tr>\n",
       "  </thead>\n",
       "  <tbody>\n",
       "    <tr>\n",
       "      <th>count</th>\n",
       "      <td>56.000000</td>\n",
       "      <td>56.000000</td>\n",
       "    </tr>\n",
       "    <tr>\n",
       "      <th>mean</th>\n",
       "      <td>45.696429</td>\n",
       "      <td>158.375000</td>\n",
       "    </tr>\n",
       "    <tr>\n",
       "      <th>std</th>\n",
       "      <td>20.635292</td>\n",
       "      <td>143.222721</td>\n",
       "    </tr>\n",
       "    <tr>\n",
       "      <th>min</th>\n",
       "      <td>16.000000</td>\n",
       "      <td>1.000000</td>\n",
       "    </tr>\n",
       "    <tr>\n",
       "      <th>25%</th>\n",
       "      <td>29.750000</td>\n",
       "      <td>22.750000</td>\n",
       "    </tr>\n",
       "    <tr>\n",
       "      <th>50%</th>\n",
       "      <td>43.500000</td>\n",
       "      <td>132.000000</td>\n",
       "    </tr>\n",
       "    <tr>\n",
       "      <th>75%</th>\n",
       "      <td>57.250000</td>\n",
       "      <td>263.750000</td>\n",
       "    </tr>\n",
       "    <tr>\n",
       "      <th>max</th>\n",
       "      <td>99.000000</td>\n",
       "      <td>496.000000</td>\n",
       "    </tr>\n",
       "  </tbody>\n",
       "</table>\n",
       "</div>"
      ],
      "text/plain": [
       "             age         uid\n",
       "count  56.000000   56.000000\n",
       "mean   45.696429  158.375000\n",
       "std    20.635292  143.222721\n",
       "min    16.000000    1.000000\n",
       "25%    29.750000   22.750000\n",
       "50%    43.500000  132.000000\n",
       "75%    57.250000  263.750000\n",
       "max    99.000000  496.000000"
      ]
     },
     "execution_count": 87,
     "metadata": {},
     "output_type": "execute_result"
    }
   ],
   "source": [
    "df_age.describe()"
   ]
  },
  {
   "cell_type": "code",
   "execution_count": 88,
   "metadata": {},
   "outputs": [],
   "source": [
    "# возьмем возрастные промежутки по квантилям: 16-29, 30-43, 44-57, 58-99, присвоим пользователям кластеры"
   ]
  },
  {
   "cell_type": "code",
   "execution_count": 89,
   "metadata": {},
   "outputs": [],
   "source": [
    "cluster = []"
   ]
  },
  {
   "cell_type": "code",
   "execution_count": 90,
   "metadata": {},
   "outputs": [],
   "source": [
    "for i in df.age:\n",
    "    if i < 30:\n",
    "        cluster.append('16-29')\n",
    "    elif i > 29 and i < 44:\n",
    "        cluster.append('30-43')\n",
    "    elif i > 43 and i < 58:\n",
    "        cluster.append('44-57')\n",
    "    else:\n",
    "        cluster.append('58-99')"
   ]
  },
  {
   "cell_type": "code",
   "execution_count": 91,
   "metadata": {},
   "outputs": [],
   "source": [
    "df['cluster'] = cluster"
   ]
  },
  {
   "cell_type": "code",
   "execution_count": 92,
   "metadata": {},
   "outputs": [],
   "source": [
    "age16_1 = df.query('cluster == \"16-29\" & test_x == \"test\"').total_revenue"
   ]
  },
  {
   "cell_type": "code",
   "execution_count": 93,
   "metadata": {},
   "outputs": [],
   "source": [
    "age16_2 = df.query('cluster == \"16-29\" & test_x == \"control1\"').total_revenue"
   ]
  },
  {
   "cell_type": "code",
   "execution_count": 94,
   "metadata": {},
   "outputs": [],
   "source": [
    "age16_3 = df.query('cluster == \"16-29\" & test_x == \"control2\"').total_revenue"
   ]
  },
  {
   "cell_type": "code",
   "execution_count": 95,
   "metadata": {},
   "outputs": [
    {
     "data": {
      "text/plain": [
       "LeveneResult(statistic=1.340582488924303, pvalue=0.26179880872130107)"
      ]
     },
     "execution_count": 95,
     "metadata": {},
     "output_type": "execute_result"
    }
   ],
   "source": [
    "stats.levene(age16_1, age16_2, age16_3)\n",
    "# p < 0.05, отклоняем нулевую гипотезу о гомогенности дисперсий: дисперсии гетерогенны"
   ]
  },
  {
   "cell_type": "code",
   "execution_count": 96,
   "metadata": {},
   "outputs": [
    {
     "name": "stdout",
     "output_type": "stream",
     "text": [
      "ShapiroResult(statistic=0.07908540964126587, pvalue=0.0)\n",
      "ShapiroResult(statistic=0.15463483333587646, pvalue=0.0)\n",
      "ShapiroResult(statistic=0.17093908786773682, pvalue=0.0)\n"
     ]
    }
   ],
   "source": [
    "print(ss.shapiro(age16_1))\n",
    "print(ss.shapiro(age16_2))\n",
    "print(ss.shapiro(age16_3))\n",
    "# p < 0.05, отвергаем нулевую гипотезу о том, что распределения нормальны, возвращаемся к Краскелу-Уоллису"
   ]
  },
  {
   "cell_type": "code",
   "execution_count": 97,
   "metadata": {},
   "outputs": [],
   "source": [
    "age16_1_log = np.log(df.query('cluster == \"16-29\" & test_x == \"test\" & total_revenue != 0').total_revenue)"
   ]
  },
  {
   "cell_type": "code",
   "execution_count": 98,
   "metadata": {},
   "outputs": [],
   "source": [
    "age16_2_log = np.log(df.query('cluster == \"16-29\" & test_x == \"control1\" & total_revenue != 0').total_revenue)"
   ]
  },
  {
   "cell_type": "code",
   "execution_count": 99,
   "metadata": {},
   "outputs": [],
   "source": [
    "age16_3_log = np.log(df.query('cluster == \"16-29\" & test_x == \"control2\" & total_revenue != 0').total_revenue)"
   ]
  },
  {
   "cell_type": "code",
   "execution_count": 100,
   "metadata": {},
   "outputs": [
    {
     "data": {
      "text/plain": [
       "LeveneResult(statistic=0.3670609242301552, pvalue=0.6933798111117124)"
      ]
     },
     "execution_count": 100,
     "metadata": {},
     "output_type": "execute_result"
    }
   ],
   "source": [
    "stats.levene(age16_1_log, age16_2_log, age16_3_log)\n",
    "# p < 0.05, отклоняем нулевую гипотезу о гомогенности дисперсий: дисперсии гетерогенны, трансформация не помогла"
   ]
  },
  {
   "cell_type": "code",
   "execution_count": 101,
   "metadata": {},
   "outputs": [
    {
     "data": {
      "text/plain": [
       "KruskalResult(statistic=9.216901635172963, pvalue=0.009967247437936184)"
      ]
     },
     "execution_count": 101,
     "metadata": {},
     "output_type": "execute_result"
    }
   ],
   "source": [
    "ss.kruskal(age16_1, age16_2, age16_3)\n",
    "# p < 0.05, отклоняем нулевую гипотезу об отсутствии статистически значимых различий: \n",
    "# минимум две группы имеют статистически значимые различия\n",
    "# используем Dunn’s test с поправкой, чтобы выяснить, какие это группы и избежать ошибки первого рода"
   ]
  },
  {
   "cell_type": "code",
   "execution_count": 102,
   "metadata": {},
   "outputs": [],
   "source": [
    "age16 = [age16_1, age16_2, age16_3]"
   ]
  },
  {
   "cell_type": "code",
   "execution_count": 103,
   "metadata": {},
   "outputs": [
    {
     "data": {
      "text/html": [
       "<div>\n",
       "<style scoped>\n",
       "    .dataframe tbody tr th:only-of-type {\n",
       "        vertical-align: middle;\n",
       "    }\n",
       "\n",
       "    .dataframe tbody tr th {\n",
       "        vertical-align: top;\n",
       "    }\n",
       "\n",
       "    .dataframe thead th {\n",
       "        text-align: right;\n",
       "    }\n",
       "</style>\n",
       "<table border=\"1\" class=\"dataframe\">\n",
       "  <thead>\n",
       "    <tr style=\"text-align: right;\">\n",
       "      <th></th>\n",
       "      <th>1</th>\n",
       "      <th>2</th>\n",
       "      <th>3</th>\n",
       "    </tr>\n",
       "  </thead>\n",
       "  <tbody>\n",
       "    <tr>\n",
       "      <th>1</th>\n",
       "      <td>1.000000</td>\n",
       "      <td>0.00772</td>\n",
       "      <td>0.143687</td>\n",
       "    </tr>\n",
       "    <tr>\n",
       "      <th>2</th>\n",
       "      <td>0.007720</td>\n",
       "      <td>1.00000</td>\n",
       "      <td>0.224740</td>\n",
       "    </tr>\n",
       "    <tr>\n",
       "      <th>3</th>\n",
       "      <td>0.143687</td>\n",
       "      <td>0.22474</td>\n",
       "      <td>1.000000</td>\n",
       "    </tr>\n",
       "  </tbody>\n",
       "</table>\n",
       "</div>"
      ],
      "text/plain": [
       "          1        2         3\n",
       "1  1.000000  0.00772  0.143687\n",
       "2  0.007720  1.00000  0.224740\n",
       "3  0.143687  0.22474  1.000000"
      ]
     },
     "execution_count": 103,
     "metadata": {},
     "output_type": "execute_result"
    }
   ],
   "source": [
    "sp.posthoc_dunn(age16, p_adjust='holm')\n",
    "# p < 0.05 для сравнения 1 и 2, следовательно статистически значимы различия между 1 контрольной и тестовой группой"
   ]
  },
  {
   "cell_type": "code",
   "execution_count": 104,
   "metadata": {},
   "outputs": [],
   "source": [
    "# посмотрим на средний чек"
   ]
  },
  {
   "cell_type": "code",
   "execution_count": 105,
   "metadata": {},
   "outputs": [
    {
     "data": {
      "text/plain": [
       "test_x\n",
       "control1    547.238520\n",
       "control2    342.122380\n",
       "test        499.612069\n",
       "dtype: float64"
      ]
     },
     "execution_count": 105,
     "metadata": {},
     "output_type": "execute_result"
    }
   ],
   "source": [
    "df.query('cluster == \"16-29\"') \\\n",
    "    .groupby('test_x').total_revenue.sum() / df.query('cluster == \"16-29\"').groupby('test_x').uid.nunique()\n",
    "# в тестовой группе средний чек выше, чем в первой контрольной группе"
   ]
  },
  {
   "cell_type": "code",
   "execution_count": 106,
   "metadata": {},
   "outputs": [
    {
     "data": {
      "text/plain": [
       "40.784980530258615"
      ]
     },
     "execution_count": 106,
     "metadata": {},
     "output_type": "execute_result"
    }
   ],
   "source": [
    "(1861.624090 - 1322.317255) / 1322.317255 * 100\n",
    "# на 40 процентов"
   ]
  },
  {
   "cell_type": "markdown",
   "metadata": {},
   "source": [
    "Удалось поднять средний чек на 40 процентов в молодой возрастной группе"
   ]
  },
  {
   "cell_type": "code",
   "execution_count": 107,
   "metadata": {},
   "outputs": [],
   "source": [
    "age34_1 = df.query('cluster == \"30-43\" & test_x == \"test\"').total_revenue"
   ]
  },
  {
   "cell_type": "code",
   "execution_count": 108,
   "metadata": {},
   "outputs": [],
   "source": [
    "age34_2 = df.query('cluster == \"30-43\" & test_x == \"control2\"').total_revenue"
   ]
  },
  {
   "cell_type": "code",
   "execution_count": 109,
   "metadata": {},
   "outputs": [],
   "source": [
    "age34_3 = df.query('cluster == \"30-43\" & test_x == \"control1\"').total_revenue"
   ]
  },
  {
   "cell_type": "code",
   "execution_count": 110,
   "metadata": {},
   "outputs": [
    {
     "data": {
      "text/plain": [
       "LeveneResult(statistic=1.3236555016038987, pvalue=0.26630450514360504)"
      ]
     },
     "execution_count": 110,
     "metadata": {},
     "output_type": "execute_result"
    }
   ],
   "source": [
    "stats.levene(age34_1, age34_2, age34_3)\n",
    "# p < 0.05, отклоняем нулевую гипотезу о гомогенности дисперсий: дисперсии гетерогенны"
   ]
  },
  {
   "cell_type": "code",
   "execution_count": 111,
   "metadata": {},
   "outputs": [
    {
     "name": "stdout",
     "output_type": "stream",
     "text": [
      "ShapiroResult(statistic=0.1358577013015747, pvalue=0.0)\n",
      "ShapiroResult(statistic=0.1026725172996521, pvalue=0.0)\n",
      "ShapiroResult(statistic=0.13523584604263306, pvalue=0.0)\n"
     ]
    }
   ],
   "source": [
    "print(ss.shapiro(age34_1))\n",
    "print(ss.shapiro(age34_2))\n",
    "print(ss.shapiro(age34_3))\n",
    "# p < 0.05, отвергаем нулевую гипотезу о том, что распределения нормальны"
   ]
  },
  {
   "cell_type": "code",
   "execution_count": 112,
   "metadata": {},
   "outputs": [],
   "source": [
    "age34_1_log = np.log(df.query('cluster == \"30-43\" & test_x == \"test\" & total_revenue != 0').total_revenue)"
   ]
  },
  {
   "cell_type": "code",
   "execution_count": 113,
   "metadata": {},
   "outputs": [],
   "source": [
    "age34_2_log = np.log(df.query('cluster == \"30-43\" & test_x == \"control2\" & total_revenue != 0').total_revenue)"
   ]
  },
  {
   "cell_type": "code",
   "execution_count": 114,
   "metadata": {},
   "outputs": [],
   "source": [
    "age34_3_log = np.log(df.query('cluster == \"30-43\" & test_x == \"control1\" & total_revenue != 0').total_revenue)"
   ]
  },
  {
   "cell_type": "code",
   "execution_count": 115,
   "metadata": {},
   "outputs": [
    {
     "data": {
      "text/plain": [
       "LeveneResult(statistic=2.0172642809759003, pvalue=0.13867747353334806)"
      ]
     },
     "execution_count": 115,
     "metadata": {},
     "output_type": "execute_result"
    }
   ],
   "source": [
    "stats.levene(age34_1_log, age34_2_log, age34_3_log)\n",
    "# p > 0.05, принимаем нулевую гипотезу: дисперсии гомогенны"
   ]
  },
  {
   "cell_type": "code",
   "execution_count": 116,
   "metadata": {},
   "outputs": [
    {
     "name": "stdout",
     "output_type": "stream",
     "text": [
      "ShapiroResult(statistic=0.8975176215171814, pvalue=0.0021706067491322756)\n",
      "ShapiroResult(statistic=0.9337396025657654, pvalue=0.049829427152872086)\n",
      "ShapiroResult(statistic=0.9727112650871277, pvalue=0.6548376679420471)\n"
     ]
    }
   ],
   "source": [
    "print(ss.shapiro(age34_1_log))\n",
    "print(ss.shapiro(age34_2_log))\n",
    "print(ss.shapiro(age34_3_log))\n",
    "# p < 0.05, отвергаем нулевую гипотезу о том, что распределения нормальны"
   ]
  },
  {
   "cell_type": "code",
   "execution_count": 117,
   "metadata": {},
   "outputs": [
    {
     "data": {
      "text/plain": [
       "KruskalResult(statistic=2.0596537217263817, pvalue=0.35706877779747154)"
      ]
     },
     "execution_count": 117,
     "metadata": {},
     "output_type": "execute_result"
    }
   ],
   "source": [
    "ss.kruskal(age34_1, age34_2, age34_3)\n",
    "# p > 0.05, принимаем нулевую гипотезу о равенстве средних"
   ]
  },
  {
   "cell_type": "code",
   "execution_count": 118,
   "metadata": {},
   "outputs": [],
   "source": [
    "age51_1 = df.query('cluster == \"44-57\" & test_x == \"test\"').total_revenue"
   ]
  },
  {
   "cell_type": "code",
   "execution_count": 119,
   "metadata": {},
   "outputs": [],
   "source": [
    "age51_2 = df.query('cluster == \"44-57\" & test_x == \"control1\"').total_revenue"
   ]
  },
  {
   "cell_type": "code",
   "execution_count": 120,
   "metadata": {},
   "outputs": [],
   "source": [
    "age51_3 = df.query('cluster == \"44-57\" & test_x == \"control2\"').total_revenue"
   ]
  },
  {
   "cell_type": "code",
   "execution_count": 121,
   "metadata": {},
   "outputs": [
    {
     "data": {
      "text/plain": [
       "LeveneResult(statistic=0.21241397173356363, pvalue=0.8086632816774854)"
      ]
     },
     "execution_count": 121,
     "metadata": {},
     "output_type": "execute_result"
    }
   ],
   "source": [
    "stats.levene(age51_1, age51_2, age51_3)\n",
    "# p < 0.05, отклоняем нулевую гипотезу о гомогенности дисперсий: дисперсии гетерогенны"
   ]
  },
  {
   "cell_type": "code",
   "execution_count": 122,
   "metadata": {},
   "outputs": [],
   "source": [
    "age51_1_log = np.log(df.query('cluster == \"44-57\" & test_x == \"test\" & total_revenue != 0').total_revenue)"
   ]
  },
  {
   "cell_type": "code",
   "execution_count": 123,
   "metadata": {},
   "outputs": [],
   "source": [
    "age51_2_log = np.log(df.query('cluster == \"44-57\" & test_x == \"control1\" & total_revenue != 0').total_revenue)"
   ]
  },
  {
   "cell_type": "code",
   "execution_count": 124,
   "metadata": {},
   "outputs": [],
   "source": [
    "age51_3_log = np.log(df.query('cluster == \"44-57\" & test_x == \"control2\" & total_revenue != 0').total_revenue)"
   ]
  },
  {
   "cell_type": "code",
   "execution_count": 125,
   "metadata": {},
   "outputs": [
    {
     "data": {
      "text/plain": [
       "LeveneResult(statistic=0.8633743660372478, pvalue=0.4307766602529225)"
      ]
     },
     "execution_count": 125,
     "metadata": {},
     "output_type": "execute_result"
    }
   ],
   "source": [
    "stats.levene(age51_1_log, age51_2_log, age51_3_log)\n",
    "# p > 0.05, принимаем нулевую гипотезу: дисперсии гомогенны"
   ]
  },
  {
   "cell_type": "code",
   "execution_count": 126,
   "metadata": {},
   "outputs": [
    {
     "name": "stdout",
     "output_type": "stream",
     "text": [
      "ShapiroResult(statistic=0.9331552982330322, pvalue=0.5452271699905396)\n",
      "ShapiroResult(statistic=0.9376504421234131, pvalue=0.321223646402359)\n",
      "ShapiroResult(statistic=0.9848290085792542, pvalue=0.9951350092887878)\n"
     ]
    }
   ],
   "source": [
    "print(ss.shapiro(age51_1_log))\n",
    "print(ss.shapiro(age51_2_log))\n",
    "print(ss.shapiro(age51_3_log))\n",
    "# p < 0.05, отвергаем нулевую гипотезу о том, что распределения нормальны\n",
    "# трансформация не помогла, возвращаемся к Краскелу-Уоллису"
   ]
  },
  {
   "cell_type": "code",
   "execution_count": 127,
   "metadata": {},
   "outputs": [
    {
     "data": {
      "text/plain": [
       "KruskalResult(statistic=2.0809864229124977, pvalue=0.35328039704356484)"
      ]
     },
     "execution_count": 127,
     "metadata": {},
     "output_type": "execute_result"
    }
   ],
   "source": [
    "ss.kruskal(age51_1, age51_2, age51_3)\n",
    "# p < 0.05, отвергаем нулевую гипотезу о равенстве средних"
   ]
  },
  {
   "cell_type": "code",
   "execution_count": 128,
   "metadata": {},
   "outputs": [],
   "source": [
    "age51 = [age51_1, age51_2, age51_3]"
   ]
  },
  {
   "cell_type": "code",
   "execution_count": 129,
   "metadata": {},
   "outputs": [
    {
     "data": {
      "text/html": [
       "<div>\n",
       "<style scoped>\n",
       "    .dataframe tbody tr th:only-of-type {\n",
       "        vertical-align: middle;\n",
       "    }\n",
       "\n",
       "    .dataframe tbody tr th {\n",
       "        vertical-align: top;\n",
       "    }\n",
       "\n",
       "    .dataframe thead th {\n",
       "        text-align: right;\n",
       "    }\n",
       "</style>\n",
       "<table border=\"1\" class=\"dataframe\">\n",
       "  <thead>\n",
       "    <tr style=\"text-align: right;\">\n",
       "      <th></th>\n",
       "      <th>1</th>\n",
       "      <th>2</th>\n",
       "      <th>3</th>\n",
       "    </tr>\n",
       "  </thead>\n",
       "  <tbody>\n",
       "    <tr>\n",
       "      <th>1</th>\n",
       "      <td>1.000000</td>\n",
       "      <td>0.504259</td>\n",
       "      <td>0.572482</td>\n",
       "    </tr>\n",
       "    <tr>\n",
       "      <th>2</th>\n",
       "      <td>0.504259</td>\n",
       "      <td>1.000000</td>\n",
       "      <td>0.778370</td>\n",
       "    </tr>\n",
       "    <tr>\n",
       "      <th>3</th>\n",
       "      <td>0.572482</td>\n",
       "      <td>0.778370</td>\n",
       "      <td>1.000000</td>\n",
       "    </tr>\n",
       "  </tbody>\n",
       "</table>\n",
       "</div>"
      ],
      "text/plain": [
       "          1         2         3\n",
       "1  1.000000  0.504259  0.572482\n",
       "2  0.504259  1.000000  0.778370\n",
       "3  0.572482  0.778370  1.000000"
      ]
     },
     "execution_count": 129,
     "metadata": {},
     "output_type": "execute_result"
    }
   ],
   "source": [
    "sp.posthoc_dunn(age51, p_adjust='holm')\n",
    "# p < 0.05 для сравнения 1 и 3, статистически значимы различия между тестовой и второй контрольной группой"
   ]
  },
  {
   "cell_type": "code",
   "execution_count": 130,
   "metadata": {},
   "outputs": [],
   "source": [
    "# посмотрим на средний чек"
   ]
  },
  {
   "cell_type": "code",
   "execution_count": 131,
   "metadata": {},
   "outputs": [
    {
     "data": {
      "text/plain": [
       "test_x\n",
       "control1    429.935733\n",
       "control2    449.040115\n",
       "test        341.022409\n",
       "dtype: float64"
      ]
     },
     "execution_count": 131,
     "metadata": {},
     "output_type": "execute_result"
    }
   ],
   "source": [
    "df.query('cluster == \"44-57\"') \\\n",
    "    .groupby('test_x').total_revenue.sum() / df.query('cluster == \"44-57\"').groupby('test_x').uid.nunique()\n",
    "# в тестовой группе средний чек ниже, чем во второй контрольной группе\n",
    "# в этой группе увеличение стоимости подписки значения не имеет"
   ]
  },
  {
   "cell_type": "code",
   "execution_count": 132,
   "metadata": {},
   "outputs": [],
   "source": [
    "age68_1 = df.query('cluster == \"58-99\" & test_x == \"test\"').total_revenue"
   ]
  },
  {
   "cell_type": "code",
   "execution_count": 133,
   "metadata": {},
   "outputs": [],
   "source": [
    "age68_2 = df.query('cluster == \"58-99\" & test_x == \"control1\"').total_revenue"
   ]
  },
  {
   "cell_type": "code",
   "execution_count": 134,
   "metadata": {},
   "outputs": [],
   "source": [
    "age68_3 = df.query('cluster == \"58-99\" & test_x == \"control2\"').total_revenue"
   ]
  },
  {
   "cell_type": "code",
   "execution_count": 135,
   "metadata": {},
   "outputs": [
    {
     "data": {
      "text/plain": [
       "LeveneResult(statistic=3.9242424242424256, pvalue=0.02399826200984763)"
      ]
     },
     "execution_count": 135,
     "metadata": {},
     "output_type": "execute_result"
    }
   ],
   "source": [
    "stats.levene(age68_1, age68_2, age68_3)\n",
    "# p < 0.05, отклоняем нулевую гипотезу о гомогенности дисперсий: дисперсии гетерогенны"
   ]
  },
  {
   "cell_type": "code",
   "execution_count": 136,
   "metadata": {},
   "outputs": [],
   "source": [
    "age68_1_log = np.log(df.query('cluster == \"58-99\" & test_x == \"test\" & total_revenue != 0').total_revenue)"
   ]
  },
  {
   "cell_type": "code",
   "execution_count": 137,
   "metadata": {},
   "outputs": [],
   "source": [
    "age68_1_log = np.log(df.query('cluster == \"58-99\" & test_x == \"control1\" & total_revenue != 0').total_revenue)"
   ]
  },
  {
   "cell_type": "code",
   "execution_count": 138,
   "metadata": {},
   "outputs": [],
   "source": [
    "age68_1_log = np.log(df.query('cluster == \"58-99\" & test_x == \"control2\" & total_revenue != 0').total_revenue)"
   ]
  },
  {
   "cell_type": "code",
   "execution_count": 139,
   "metadata": {},
   "outputs": [
    {
     "name": "stderr",
     "output_type": "stream",
     "text": [
      "/opt/tljh/user/lib/python3.7/site-packages/numpy/core/fromnumeric.py:3441: RuntimeWarning: Mean of empty slice.\n",
      "  out=out, **kwargs)\n",
      "/opt/tljh/user/lib/python3.7/site-packages/numpy/core/_methods.py:189: RuntimeWarning: invalid value encountered in double_scalars\n",
      "  ret = ret.dtype.type(ret / rcount)\n"
     ]
    },
    {
     "data": {
      "text/plain": [
       "LeveneResult(statistic=nan, pvalue=nan)"
      ]
     },
     "execution_count": 139,
     "metadata": {},
     "output_type": "execute_result"
    }
   ],
   "source": [
    "stats.levene(age68_1_log, age68_1_log, age68_1_log)\n",
    "# трансформация не сработала - просто выборки маленькие"
   ]
  },
  {
   "cell_type": "code",
   "execution_count": 140,
   "metadata": {},
   "outputs": [
    {
     "data": {
      "text/plain": [
       "KruskalResult(statistic=7.287671232876638, pvalue=0.026151842908595957)"
      ]
     },
     "execution_count": 140,
     "metadata": {},
     "output_type": "execute_result"
    }
   ],
   "source": [
    "ss.kruskal(age68_1, age68_2, age68_3)\n",
    "# p < 0.05, отвергаем нулевую гипотезу о равенстве средних"
   ]
  },
  {
   "cell_type": "code",
   "execution_count": 141,
   "metadata": {},
   "outputs": [],
   "source": [
    "age68 = [age68_1, age68_2, age68_3]"
   ]
  },
  {
   "cell_type": "code",
   "execution_count": 142,
   "metadata": {},
   "outputs": [
    {
     "data": {
      "text/html": [
       "<div>\n",
       "<style scoped>\n",
       "    .dataframe tbody tr th:only-of-type {\n",
       "        vertical-align: middle;\n",
       "    }\n",
       "\n",
       "    .dataframe tbody tr th {\n",
       "        vertical-align: top;\n",
       "    }\n",
       "\n",
       "    .dataframe thead th {\n",
       "        text-align: right;\n",
       "    }\n",
       "</style>\n",
       "<table border=\"1\" class=\"dataframe\">\n",
       "  <thead>\n",
       "    <tr style=\"text-align: right;\">\n",
       "      <th></th>\n",
       "      <th>1</th>\n",
       "      <th>2</th>\n",
       "      <th>3</th>\n",
       "    </tr>\n",
       "  </thead>\n",
       "  <tbody>\n",
       "    <tr>\n",
       "      <th>1</th>\n",
       "      <td>1.000000</td>\n",
       "      <td>0.057863</td>\n",
       "      <td>0.04736</td>\n",
       "    </tr>\n",
       "    <tr>\n",
       "      <th>2</th>\n",
       "      <td>0.057863</td>\n",
       "      <td>1.000000</td>\n",
       "      <td>1.00000</td>\n",
       "    </tr>\n",
       "    <tr>\n",
       "      <th>3</th>\n",
       "      <td>0.047360</td>\n",
       "      <td>1.000000</td>\n",
       "      <td>1.00000</td>\n",
       "    </tr>\n",
       "  </tbody>\n",
       "</table>\n",
       "</div>"
      ],
      "text/plain": [
       "          1         2        3\n",
       "1  1.000000  0.057863  0.04736\n",
       "2  0.057863  1.000000  1.00000\n",
       "3  0.047360  1.000000  1.00000"
      ]
     },
     "execution_count": 142,
     "metadata": {},
     "output_type": "execute_result"
    }
   ],
   "source": [
    "sp.posthoc_dunn(age68, p_adjust='holm')\n",
    "# p < 0.05 для сравнения 1 и 2,3, статистически значимы различия между каждой из контрольных и тестовой группой"
   ]
  },
  {
   "cell_type": "code",
   "execution_count": 143,
   "metadata": {},
   "outputs": [
    {
     "data": {
      "text/plain": [
       "test_x\n",
       "control1       0.00\n",
       "control2       0.00\n",
       "test        7558.72\n",
       "dtype: float64"
      ]
     },
     "execution_count": 143,
     "metadata": {},
     "output_type": "execute_result"
    }
   ],
   "source": [
    "# посмотрим на ARPU\n",
    "df.query('cluster == \"58-99\"') \\\n",
    "    .groupby('test_x').total_revenue.sum() / df.query('cluster == \"58-99\"').groupby('test_x').uid.nunique()\n",
    "# в тестовой группе средний чек выше, чем в первой контрольной группе"
   ]
  },
  {
   "cell_type": "markdown",
   "metadata": {},
   "source": [
    "Итого: изучили возрастные группы и выяснили, что тест был успешен на пользователя младшей (16-29) и старшей (58-99) группах"
   ]
  },
  {
   "cell_type": "markdown",
   "metadata": {},
   "source": [
    "4. Выводы: сколько денег заработаем дополнительно"
   ]
  },
  {
   "cell_type": "code",
   "execution_count": 144,
   "metadata": {},
   "outputs": [
    {
     "data": {
      "text/plain": [
       "test_x\n",
       "control1    547.238520\n",
       "control2    342.122380\n",
       "test        499.612069\n",
       "dtype: float64"
      ]
     },
     "execution_count": 144,
     "metadata": {},
     "output_type": "execute_result"
    }
   ],
   "source": [
    "df.query('cluster == \"16-29\"') \\\n",
    "    .groupby('test_x').total_revenue.sum() / df.query('cluster == \"16-29\"').groupby('test_x').uid.nunique()"
   ]
  },
  {
   "cell_type": "code",
   "execution_count": 145,
   "metadata": {},
   "outputs": [
    {
     "data": {
      "text/plain": [
       "test_x\n",
       "control1    1459\n",
       "control2    1479\n",
       "test        1508\n",
       "Name: uid, dtype: int64"
      ]
     },
     "execution_count": 145,
     "metadata": {},
     "output_type": "execute_result"
    }
   ],
   "source": [
    "df.query('cluster == \"16-29\"').groupby('test_x').uid.nunique()"
   ]
  },
  {
   "cell_type": "code",
   "execution_count": 146,
   "metadata": {},
   "outputs": [
    {
     "data": {
      "text/plain": [
       "2057835"
      ]
     },
     "execution_count": 146,
     "metadata": {},
     "output_type": "execute_result"
    }
   ],
   "source": [
    "df.query('cluster == \"16-29\"').total_revenue.sum() \n",
    "# столько заработали на возрастах 16-29"
   ]
  },
  {
   "cell_type": "code",
   "execution_count": 147,
   "metadata": {},
   "outputs": [
    {
     "data": {
      "text/plain": [
       "8336352.67502"
      ]
     },
     "execution_count": 147,
     "metadata": {},
     "output_type": "execute_result"
    }
   ],
   "source": [
    "(1472 + 1495 + 1511) * 1861.624090\n",
    "# столько могли бы заработать за этот период"
   ]
  },
  {
   "cell_type": "code",
   "execution_count": 148,
   "metadata": {},
   "outputs": [
    {
     "data": {
      "text/plain": [
       "test_x\n",
       "control1       0.00\n",
       "control2       0.00\n",
       "test        7558.72\n",
       "dtype: float64"
      ]
     },
     "execution_count": 148,
     "metadata": {},
     "output_type": "execute_result"
    }
   ],
   "source": [
    "df.query('cluster == \"58-99\"') \\\n",
    "    .groupby('test_x').total_revenue.sum() / df.query('cluster == \"58-99\"').groupby('test_x').uid.nunique()"
   ]
  },
  {
   "cell_type": "code",
   "execution_count": 149,
   "metadata": {},
   "outputs": [
    {
     "data": {
      "text/plain": [
       "test_x\n",
       "control1    20\n",
       "control2    29\n",
       "test        25\n",
       "Name: uid, dtype: int64"
      ]
     },
     "execution_count": 149,
     "metadata": {},
     "output_type": "execute_result"
    }
   ],
   "source": [
    "df.query('cluster == \"58-99\"').groupby('test_x').uid.nunique()"
   ]
  },
  {
   "cell_type": "code",
   "execution_count": 150,
   "metadata": {},
   "outputs": [
    {
     "data": {
      "text/plain": [
       "188968"
      ]
     },
     "execution_count": 150,
     "metadata": {},
     "output_type": "execute_result"
    }
   ],
   "source": [
    "df.query('cluster == \"58-99\"').total_revenue.sum() \n",
    "# столько заработали на возрастах 58-99"
   ]
  },
  {
   "cell_type": "code",
   "execution_count": 151,
   "metadata": {},
   "outputs": [
    {
     "data": {
      "text/plain": [
       "782327.5199999999"
      ]
     },
     "execution_count": 151,
     "metadata": {},
     "output_type": "execute_result"
    }
   ],
   "source": [
    "(21 + 25) * 17007.120000\n",
    "# столько могли бы заработать за этот период"
   ]
  },
  {
   "cell_type": "code",
   "execution_count": 152,
   "metadata": {},
   "outputs": [
    {
     "data": {
      "text/plain": [
       "2846479.19502"
      ]
     },
     "execution_count": 152,
     "metadata": {},
     "output_type": "execute_result"
    }
   ],
   "source": [
    "(8336352.67502 - 5843981) + (782327.5199999999 - 428220)"
   ]
  },
  {
   "cell_type": "code",
   "execution_count": 153,
   "metadata": {},
   "outputs": [
    {
     "data": {
      "text/plain": [
       "41.84446263570149"
      ]
     },
     "execution_count": 153,
     "metadata": {},
     "output_type": "execute_result"
    }
   ],
   "source": [
    "2846479.19502 / 6802523 * 100\n",
    "# 6 802 523 - всего заработали сейчас, а могли бы на 42 процента больше"
   ]
  },
  {
   "cell_type": "markdown",
   "metadata": {},
   "source": [
    "Итог: повышение подписки имеет смысл на пользователях младшей (16-29) и старшей (58-99) группах, в других группах пользователей эксперимент не показал значимых результатов. Если введем это изменение, сможем добиться увеличения валовой выручки на 42 процента"
   ]
  },
  {
   "cell_type": "code",
   "execution_count": null,
   "metadata": {},
   "outputs": [],
   "source": []
  }
 ],
 "metadata": {
  "kernelspec": {
   "display_name": "Python 3",
   "language": "python",
   "name": "python3"
  },
  "language_info": {
   "codemirror_mode": {
    "name": "ipython",
    "version": 3
   },
   "file_extension": ".py",
   "mimetype": "text/x-python",
   "name": "python",
   "nbconvert_exporter": "python",
   "pygments_lexer": "ipython3",
   "version": "3.7.3"
  }
 },
 "nbformat": 4,
 "nbformat_minor": 4
}
